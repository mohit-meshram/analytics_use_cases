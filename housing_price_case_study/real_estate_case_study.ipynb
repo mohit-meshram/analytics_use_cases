{
 "cells": [
  {
   "cell_type": "code",
   "execution_count": 1,
   "metadata": {},
   "outputs": [],
   "source": [
    "import numpy as np\n",
    "import pandas as pd\n",
    "from  matplotlib import pyplot as plt, patches as mpatches\n",
    "import seaborn as sns\n",
    "import sklearn as skl\n",
    "from sklearn import model_selection as skl_ms, preprocessing as skl_pre, feature_selection as skl_fs, linear_model as skl_lm, metrics as skl_met\n",
    "pd.set_option('display.max_rows', 200)\n",
    "\n",
    "import warnings\n",
    "warnings.filterwarnings('ignore')"
   ]
  },
  {
   "cell_type": "markdown",
   "metadata": {},
   "source": [
    "### DATA CLEANING"
   ]
  },
  {
   "cell_type": "code",
   "execution_count": 2,
   "metadata": {},
   "outputs": [],
   "source": [
    "#Read Data\n",
    "housing_data = pd.read_csv('train.csv')"
   ]
  },
  {
   "cell_type": "code",
   "execution_count": 3,
   "metadata": {},
   "outputs": [],
   "source": [
    "#Fill Null values of Categroical Variables with appropriate category\n",
    "housing_data['Alley'].fillna('no_alley',inplace = True)\n",
    "housing_data['BsmtQual'].fillna('no_basement',inplace = True)\n",
    "housing_data['BsmtCond'].fillna('no_basement', inplace=True)\n",
    "housing_data['BsmtExposure'].fillna('no_basement', inplace=True)\n",
    "housing_data['BsmtFinType1'].fillna('no_basement', inplace=True)\n",
    "housing_data['BsmtFinType2'].fillna('no_basement', inplace=True)\n",
    "housing_data['FireplaceQu'].fillna('no_fireplace', inplace=True)\n",
    "housing_data['GarageType'].fillna('no_garage', inplace=True)\n",
    "housing_data['GarageFinish'].fillna('no_garage', inplace=True)\n",
    "housing_data['GarageQual'].fillna('no_garage', inplace=True)\n",
    "housing_data['GarageCond'].fillna('no_garage', inplace=True)\n",
    "housing_data['PoolQC'].fillna('no_pool', inplace=True)\n",
    "housing_data['Fence'].fillna('no_pool', inplace=True)\n",
    "housing_data['MiscFeature'].fillna('no_misc', inplace=True)\n",
    "housing_data['Electrical'].fillna('no_elec', inplace=True)\n",
    "housing_data['MasVnrType'].fillna('no_maso', inplace=True)"
   ]
  },
  {
   "cell_type": "code",
   "execution_count": 4,
   "metadata": {},
   "outputs": [
    {
     "data": {
      "text/plain": [
       "LotFrontage      17.739726\n",
       "GarageYrBlt       5.547945\n",
       "MasVnrArea        0.547945\n",
       "Id                0.000000\n",
       "KitchenAbvGr      0.000000\n",
       "GarageType        0.000000\n",
       "FireplaceQu       0.000000\n",
       "Fireplaces        0.000000\n",
       "Functional        0.000000\n",
       "TotRmsAbvGrd      0.000000\n",
       "KitchenQual       0.000000\n",
       "BedroomAbvGr      0.000000\n",
       "GarageCars        0.000000\n",
       "HalfBath          0.000000\n",
       "FullBath          0.000000\n",
       "BsmtHalfBath      0.000000\n",
       "BsmtFullBath      0.000000\n",
       "GrLivArea         0.000000\n",
       "LowQualFinSF      0.000000\n",
       "2ndFlrSF          0.000000\n",
       "GarageFinish      0.000000\n",
       "GarageArea        0.000000\n",
       "Electrical        0.000000\n",
       "PoolQC            0.000000\n",
       "SaleCondition     0.000000\n",
       "SaleType          0.000000\n",
       "YrSold            0.000000\n",
       "MoSold            0.000000\n",
       "MiscVal           0.000000\n",
       "MiscFeature       0.000000\n",
       "Fence             0.000000\n",
       "PoolArea          0.000000\n",
       "GarageQual        0.000000\n",
       "ScreenPorch       0.000000\n",
       "3SsnPorch         0.000000\n",
       "EnclosedPorch     0.000000\n",
       "OpenPorchSF       0.000000\n",
       "WoodDeckSF        0.000000\n",
       "PavedDrive        0.000000\n",
       "GarageCond        0.000000\n",
       "1stFlrSF          0.000000\n",
       "HeatingQC         0.000000\n",
       "CentralAir        0.000000\n",
       "LandSlope         0.000000\n",
       "OverallCond       0.000000\n",
       "OverallQual       0.000000\n",
       "HouseStyle        0.000000\n",
       "BldgType          0.000000\n",
       "Condition2        0.000000\n",
       "Condition1        0.000000\n",
       "Neighborhood      0.000000\n",
       "LotConfig         0.000000\n",
       "YearRemodAdd      0.000000\n",
       "Utilities         0.000000\n",
       "LandContour       0.000000\n",
       "LotShape          0.000000\n",
       "Alley             0.000000\n",
       "Street            0.000000\n",
       "LotArea           0.000000\n",
       "MSZoning          0.000000\n",
       "YearBuilt         0.000000\n",
       "RoofStyle         0.000000\n",
       "MSSubClass        0.000000\n",
       "BsmtExposure      0.000000\n",
       "Heating           0.000000\n",
       "TotalBsmtSF       0.000000\n",
       "BsmtUnfSF         0.000000\n",
       "BsmtFinSF2        0.000000\n",
       "BsmtFinType2      0.000000\n",
       "BsmtFinSF1        0.000000\n",
       "BsmtFinType1      0.000000\n",
       "BsmtCond          0.000000\n",
       "RoofMatl          0.000000\n",
       "BsmtQual          0.000000\n",
       "Foundation        0.000000\n",
       "ExterCond         0.000000\n",
       "ExterQual         0.000000\n",
       "MasVnrType        0.000000\n",
       "Exterior2nd       0.000000\n",
       "Exterior1st       0.000000\n",
       "SalePrice         0.000000\n",
       "dtype: float64"
      ]
     },
     "execution_count": 4,
     "metadata": {},
     "output_type": "execute_result"
    }
   ],
   "source": [
    "#Find columns with high null values\n",
    "((housing_data.isna().sum()/len(housing_data))*100).sort_values(ascending=False)"
   ]
  },
  {
   "cell_type": "code",
   "execution_count": 5,
   "metadata": {},
   "outputs": [],
   "source": [
    "#Fill null values with median\n",
    "housing_data['LotFrontage'].fillna(housing_data['LotFrontage'].median(),inplace=True)\n",
    "housing_data['MasVnrArea'].fillna(housing_data['MasVnrArea'].median(),inplace=True)"
   ]
  },
  {
   "cell_type": "code",
   "execution_count": 6,
   "metadata": {},
   "outputs": [],
   "source": [
    "#Derive new metrics\n",
    "housing_data['PropertyAge']=housing_data['YrSold']-housing_data['YearBuilt']\n",
    "housing_data['PropertyRemodifiedAge']=housing_data['YrSold']-housing_data['YearRemodAdd']"
   ]
  },
  {
   "cell_type": "code",
   "execution_count": 7,
   "metadata": {},
   "outputs": [],
   "source": [
    "#Drop not required attributes\n",
    "housing_data.drop(['MoSold','YrSold','YearRemodAdd','YearBuilt','Id','GarageYrBlt'],axis=1,inplace=True)"
   ]
  },
  {
   "cell_type": "markdown",
   "metadata": {},
   "source": [
    "### DATA PREPARATION"
   ]
  },
  {
   "cell_type": "code",
   "execution_count": 8,
   "metadata": {},
   "outputs": [],
   "source": [
    "#Identify Categorical and Numerical Variables\n",
    "catvars=['MSSubClass', 'MSZoning', 'Street', 'Alley', 'LotShape', 'LandContour', \n",
    "'Utilities', 'LotConfig', 'LandSlope', 'Neighborhood', 'Condition1', 'Condition2', \n",
    "'BldgType', 'HouseStyle', 'OverallQual', 'OverallCond', 'RoofStyle', 'RoofMatl', \n",
    "'Exterior1st', 'Exterior2nd', 'MasVnrType', 'ExterQual', 'ExterCond', 'BsmtQual', \n",
    "'BsmtCond', 'BsmtExposure', 'BsmtFinType1', 'BsmtFinType2', 'Heating', 'HeatingQC',\n",
    "'CentralAir', 'Electrical', 'BsmtFullBath', 'BsmtHalfBath', 'FullBath', 'HalfBath', \n",
    "'KitchenQual', 'TotRmsAbvGrd', 'Functional', 'Fireplaces', 'GarageType', 'BedroomAbvGr',\n",
    "'GarageFinish', 'GarageCars', 'GarageQual', 'GarageCond', 'PavedDrive', 'PoolQC', \n",
    "'KitchenAbvGr', 'FireplaceQu', 'Foundation', 'Fence', 'MiscFeature', 'MiscVal','SaleType','SaleCondition']\n",
    "num_vars=list(set(housing_data.columns)-{'SalePrice'}-set(catvars))"
   ]
  },
  {
   "cell_type": "code",
   "execution_count": 9,
   "metadata": {},
   "outputs": [],
   "source": [
    "#Create Dummy Variables\n",
    "housing_data = pd.get_dummies(housing_data,drop_first=True,columns=catvars)"
   ]
  },
  {
   "cell_type": "code",
   "execution_count": 10,
   "metadata": {},
   "outputs": [],
   "source": [
    "#X-Y split\n",
    "X=housing_data.drop('SalePrice',axis=1)\n",
    "Y=housing_data['SalePrice']"
   ]
  },
  {
   "cell_type": "code",
   "execution_count": 11,
   "metadata": {},
   "outputs": [],
   "source": [
    "#Train-Test Split\n",
    "X_train,X_test = skl_ms.train_test_split(X,train_size=0.7,random_state=123)\n",
    "Y_train,Y_test = skl_ms.train_test_split(Y,train_size=0.7,random_state=123)"
   ]
  },
  {
   "cell_type": "code",
   "execution_count": 12,
   "metadata": {},
   "outputs": [],
   "source": [
    "#Scale independent training variables\n",
    "scaler=skl_pre.MinMaxScaler()\n",
    "X_train[num_vars]=scaler.fit_transform(X_train[num_vars])"
   ]
  },
  {
   "cell_type": "markdown",
   "metadata": {},
   "source": [
    "### MODEL BUILDING"
   ]
  },
  {
   "cell_type": "code",
   "execution_count": 13,
   "metadata": {},
   "outputs": [
    {
     "name": "stdout",
     "output_type": "stream",
     "text": [
      "Fitting 5 folds for each of 28 candidates, totalling 140 fits\n",
      "Fitting 5 folds for each of 28 candidates, totalling 140 fits\n",
      "Lasso Alpha:  {'alpha': 100}\n",
      "Ridge Alpha:  {'alpha': 10.0}\n"
     ]
    }
   ],
   "source": [
    "# list of alphas to tune\n",
    "params = {'alpha': [0.0001, 0.001, 0.01, 0.05, 0.1, \n",
    " 0.2, 0.3, 0.4, 0.5, 0.6, 0.7, 0.8, 0.9, 1.0, 2.0, 3.0, \n",
    " 4.0, 5.0, 6.0, 7.0, 8.0, 9.0, 10.0, 20, 50, 100, 500, 1000 ]}\n",
    "\n",
    "ridge = skl_lm.Ridge()\n",
    "lasso = skl_lm.Lasso()\n",
    "\n",
    "# cross validation\n",
    "folds = 5\n",
    "\n",
    "model_ridge = skl_ms.GridSearchCV(estimator = ridge, \n",
    "                        param_grid = params, \n",
    "                        scoring= 'neg_mean_absolute_error', \n",
    "                        cv = folds, \n",
    "                        return_train_score=True,\n",
    "                        verbose = 1)            \n",
    "model_ridge.fit(X_train, Y_train) \n",
    "\n",
    "model_lasso = skl_ms.GridSearchCV(estimator = lasso, \n",
    "                        param_grid = params, \n",
    "                        scoring= 'neg_mean_absolute_error', \n",
    "                        cv = folds, \n",
    "                        return_train_score=True,\n",
    "                        verbose = 1)            \n",
    "model_lasso.fit(X_train, Y_train) \n",
    "\n",
    "print('Lasso Alpha: ', model_lasso.best_params_)\n",
    "print('Ridge Alpha: ',model_ridge.best_params_)"
   ]
  },
  {
   "cell_type": "markdown",
   "metadata": {},
   "source": [
    "### PREDICTION AND EVALUATION"
   ]
  },
  {
   "cell_type": "code",
   "execution_count": 14,
   "metadata": {},
   "outputs": [
    {
     "name": "stdout",
     "output_type": "stream",
     "text": [
      "                          Ridge                Lasso\n",
      "Train MSE  655052921.4288556576 590433482.6583887339\n",
      "      RMSE     25594.0016689234     24298.8370639088\n",
      "      R2           0.9000374871         0.9098985552\n",
      "Test  MSE  721493159.5533237457 643053587.4664866924\n",
      "      RMSE     26860.6247051948     25358.5012858900\n",
      "      R2           0.8740448900         0.8877385263\n"
     ]
    }
   ],
   "source": [
    "#Prediction using Model\n",
    "X_test[num_vars]=scaler.transform(X_test[num_vars])\n",
    "\n",
    "#New model using optimal alpha\n",
    "model_lasso = skl_lm.Lasso(alpha=100)\n",
    "model_lasso.fit(X_train, Y_train)\n",
    "model_ridge = skl_lm.Ridge(alpha=10)\n",
    "model_ridge.fit(X_train, Y_train) \n",
    "\n",
    "Y_train_predicted_lasso=model_lasso.predict(X_train)\n",
    "Y_test_predicted_lasso=model_lasso.predict(X_test)\n",
    "Y_train_predicted_ridge=model_ridge.predict(X_train)\n",
    "Y_test_predicted_ridge=model_ridge.predict(X_test)\n",
    "#Lasso\n",
    "mse_train_lasso=skl_met.mean_squared_error(Y_train,Y_train_predicted_lasso)\n",
    "rmse_train_lasso=mse_train_lasso**0.5\n",
    "r2_train_lasso = skl_met.r2_score(Y_train,Y_train_predicted_lasso)\n",
    "mse_test_lasso = skl_met.mean_squared_error(Y_test,Y_test_predicted_lasso)\n",
    "rmse_test_lasso=mse_test_lasso**0.5\n",
    "r2_test_lasso = skl_met.r2_score(Y_test,Y_test_predicted_lasso)\n",
    "#Ridge\n",
    "mse_train_ridge = skl_met.mean_squared_error(Y_train,Y_train_predicted_ridge)\n",
    "rmse_train_ridge=mse_train_ridge**0.5\n",
    "r2_train_ridge = skl_met.r2_score(Y_train,Y_train_predicted_ridge)\n",
    "mse_test_ridge = skl_met.mean_squared_error(Y_test,Y_test_predicted_ridge)\n",
    "rmse_test_ridge=mse_test_ridge**0.5\n",
    "r2_test_ridge = skl_met.r2_score(Y_test,Y_test_predicted_ridge)\n",
    "\n",
    "result_df = pd.DataFrame([[mse_train_ridge,mse_train_lasso],[rmse_train_ridge,rmse_train_lasso],[r2_train_ridge,r2_train_lasso],[mse_test_ridge,mse_test_lasso],[rmse_test_ridge,rmse_test_lasso],[r2_test_ridge,r2_test_lasso]],\n",
    "    index=pd.MultiIndex.from_tuples([('Train','MSE'),('Train','RMSE'),('Train','R2'),('Test','MSE'),('Test','RMSE'),('Test','R2')]),\n",
    "    columns=['Ridge','Lasso'])\n",
    "pd.set_option('display.float_format', lambda x: '%.10f' % x)\n",
    "print(result_df)"
   ]
  },
  {
   "cell_type": "markdown",
   "metadata": {},
   "source": [
    ">>> Based on the evaluation metric lasso perfroms slightly better than the ridge"
   ]
  },
  {
   "cell_type": "code",
   "execution_count": 33,
   "metadata": {},
   "outputs": [
    {
     "name": "stdout",
     "output_type": "stream",
     "text": [
      "Most important params Lassso:\n",
      "OverallQual_9\n",
      "PoolQC_Gd\n",
      "OverallQual_10\n",
      "Condition2_PosN\n",
      "GrLivArea\n",
      "\n",
      "Most important params RIDGE:\n",
      "Neighborhood_NridgHt\n",
      "OverallQual_10\n",
      "FullBath_3\n",
      "Neighborhood_NoRidge\n",
      "GrLivArea\n"
     ]
    }
   ],
   "source": [
    "print('Most important params Lassso:')\n",
    "df=pd.Series(model_lasso.coef_)\n",
    "df=df.abs()\n",
    "for i in df.sort_values()[-5:].index:\n",
    "    print(X_train.columns[i])\n",
    "print()\n",
    "print('Most important params RIDGE:')\n",
    "df=pd.Series(model_ridge.coef_)\n",
    "df=df.abs()\n",
    "for i in df.sort_values()[-5:].index:\n",
    "    print(X_train.columns[i])\n"
   ]
  }
 ],
 "metadata": {
  "interpreter": {
   "hash": "ac59ebe37160ed0dfa835113d9b8498d9f09ceb179beaac4002f036b9467c963"
  },
  "kernelspec": {
   "display_name": "Python 3.9.6 64-bit",
   "language": "python",
   "name": "python3"
  },
  "language_info": {
   "codemirror_mode": {
    "name": "ipython",
    "version": 3
   },
   "file_extension": ".py",
   "mimetype": "text/x-python",
   "name": "python",
   "nbconvert_exporter": "python",
   "pygments_lexer": "ipython3",
   "version": "3.9.6"
  },
  "orig_nbformat": 4
 },
 "nbformat": 4,
 "nbformat_minor": 2
}
